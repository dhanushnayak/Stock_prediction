{
 "cells": [
  {
   "cell_type": "markdown",
   "metadata": {},
   "source": [
    "# Stock market prediction using Stacked LSTM\n",
    "## Using KERAS\n"
   ]
  },
  {
   "cell_type": "markdown",
   "metadata": {},
   "source": [
    "STEPS :\n",
    "1. Collection of Data\n",
    "2. Preprocessing DATA as train dev test\n",
    "3. Create An stacked LSTM Model\n",
    "4. predict Test and dev by Graph analysis as ARIMA\n",
    "5. Predict the forecast"
   ]
  },
  {
   "cell_type": "code",
   "execution_count": 227,
   "metadata": {},
   "outputs": [],
   "source": [
    "import pandas_datareader as pdr"
   ]
  },
  {
   "cell_type": "code",
   "execution_count": 228,
   "metadata": {},
   "outputs": [],
   "source": [
    "df = pdr.get_data_tiingo(\"AAPL\",api_key=key) # 'Company name',key,tiingo api key in str format ....minimum request is 50"
   ]
  },
  {
   "cell_type": "code",
   "execution_count": 229,
   "metadata": {},
   "outputs": [
    {
     "data": {
      "text/html": [
       "<div>\n",
       "<style scoped>\n",
       "    .dataframe tbody tr th:only-of-type {\n",
       "        vertical-align: middle;\n",
       "    }\n",
       "\n",
       "    .dataframe tbody tr th {\n",
       "        vertical-align: top;\n",
       "    }\n",
       "\n",
       "    .dataframe thead th {\n",
       "        text-align: right;\n",
       "    }\n",
       "</style>\n",
       "<table border=\"1\" class=\"dataframe\">\n",
       "  <thead>\n",
       "    <tr style=\"text-align: right;\">\n",
       "      <th></th>\n",
       "      <th></th>\n",
       "      <th>close</th>\n",
       "      <th>high</th>\n",
       "      <th>low</th>\n",
       "      <th>open</th>\n",
       "      <th>volume</th>\n",
       "      <th>adjClose</th>\n",
       "      <th>adjHigh</th>\n",
       "      <th>adjLow</th>\n",
       "      <th>adjOpen</th>\n",
       "      <th>adjVolume</th>\n",
       "      <th>divCash</th>\n",
       "      <th>splitFactor</th>\n",
       "    </tr>\n",
       "    <tr>\n",
       "      <th>symbol</th>\n",
       "      <th>date</th>\n",
       "      <th></th>\n",
       "      <th></th>\n",
       "      <th></th>\n",
       "      <th></th>\n",
       "      <th></th>\n",
       "      <th></th>\n",
       "      <th></th>\n",
       "      <th></th>\n",
       "      <th></th>\n",
       "      <th></th>\n",
       "      <th></th>\n",
       "      <th></th>\n",
       "    </tr>\n",
       "  </thead>\n",
       "  <tbody>\n",
       "    <tr>\n",
       "      <th rowspan=\"5\" valign=\"top\">AAPL</th>\n",
       "      <th>2015-05-28 00:00:00+00:00</th>\n",
       "      <td>131.780</td>\n",
       "      <td>131.950</td>\n",
       "      <td>131.10</td>\n",
       "      <td>131.86</td>\n",
       "      <td>30733309</td>\n",
       "      <td>121.438354</td>\n",
       "      <td>121.595013</td>\n",
       "      <td>120.811718</td>\n",
       "      <td>121.512076</td>\n",
       "      <td>30733309</td>\n",
       "      <td>0.0</td>\n",
       "      <td>1.0</td>\n",
       "    </tr>\n",
       "    <tr>\n",
       "      <th>2015-05-29 00:00:00+00:00</th>\n",
       "      <td>130.280</td>\n",
       "      <td>131.450</td>\n",
       "      <td>129.90</td>\n",
       "      <td>131.23</td>\n",
       "      <td>50884452</td>\n",
       "      <td>120.056069</td>\n",
       "      <td>121.134251</td>\n",
       "      <td>119.705890</td>\n",
       "      <td>120.931516</td>\n",
       "      <td>50884452</td>\n",
       "      <td>0.0</td>\n",
       "      <td>1.0</td>\n",
       "    </tr>\n",
       "    <tr>\n",
       "      <th>2015-06-01 00:00:00+00:00</th>\n",
       "      <td>130.535</td>\n",
       "      <td>131.390</td>\n",
       "      <td>130.05</td>\n",
       "      <td>131.20</td>\n",
       "      <td>32112797</td>\n",
       "      <td>120.291057</td>\n",
       "      <td>121.078960</td>\n",
       "      <td>119.844118</td>\n",
       "      <td>120.903870</td>\n",
       "      <td>32112797</td>\n",
       "      <td>0.0</td>\n",
       "      <td>1.0</td>\n",
       "    </tr>\n",
       "    <tr>\n",
       "      <th>2015-06-02 00:00:00+00:00</th>\n",
       "      <td>129.960</td>\n",
       "      <td>130.655</td>\n",
       "      <td>129.32</td>\n",
       "      <td>129.86</td>\n",
       "      <td>33667627</td>\n",
       "      <td>119.761181</td>\n",
       "      <td>120.401640</td>\n",
       "      <td>119.171406</td>\n",
       "      <td>119.669029</td>\n",
       "      <td>33667627</td>\n",
       "      <td>0.0</td>\n",
       "      <td>1.0</td>\n",
       "    </tr>\n",
       "    <tr>\n",
       "      <th>2015-06-03 00:00:00+00:00</th>\n",
       "      <td>130.120</td>\n",
       "      <td>130.940</td>\n",
       "      <td>129.90</td>\n",
       "      <td>130.66</td>\n",
       "      <td>30983542</td>\n",
       "      <td>119.908625</td>\n",
       "      <td>120.664274</td>\n",
       "      <td>119.705890</td>\n",
       "      <td>120.406248</td>\n",
       "      <td>30983542</td>\n",
       "      <td>0.0</td>\n",
       "      <td>1.0</td>\n",
       "    </tr>\n",
       "  </tbody>\n",
       "</table>\n",
       "</div>"
      ],
      "text/plain": [
       "                                    close     high     low    open    volume  \\\n",
       "symbol date                                                                    \n",
       "AAPL   2015-05-28 00:00:00+00:00  131.780  131.950  131.10  131.86  30733309   \n",
       "       2015-05-29 00:00:00+00:00  130.280  131.450  129.90  131.23  50884452   \n",
       "       2015-06-01 00:00:00+00:00  130.535  131.390  130.05  131.20  32112797   \n",
       "       2015-06-02 00:00:00+00:00  129.960  130.655  129.32  129.86  33667627   \n",
       "       2015-06-03 00:00:00+00:00  130.120  130.940  129.90  130.66  30983542   \n",
       "\n",
       "                                    adjClose     adjHigh      adjLow  \\\n",
       "symbol date                                                            \n",
       "AAPL   2015-05-28 00:00:00+00:00  121.438354  121.595013  120.811718   \n",
       "       2015-05-29 00:00:00+00:00  120.056069  121.134251  119.705890   \n",
       "       2015-06-01 00:00:00+00:00  120.291057  121.078960  119.844118   \n",
       "       2015-06-02 00:00:00+00:00  119.761181  120.401640  119.171406   \n",
       "       2015-06-03 00:00:00+00:00  119.908625  120.664274  119.705890   \n",
       "\n",
       "                                     adjOpen  adjVolume  divCash  splitFactor  \n",
       "symbol date                                                                    \n",
       "AAPL   2015-05-28 00:00:00+00:00  121.512076   30733309      0.0          1.0  \n",
       "       2015-05-29 00:00:00+00:00  120.931516   50884452      0.0          1.0  \n",
       "       2015-06-01 00:00:00+00:00  120.903870   32112797      0.0          1.0  \n",
       "       2015-06-02 00:00:00+00:00  119.669029   33667627      0.0          1.0  \n",
       "       2015-06-03 00:00:00+00:00  120.406248   30983542      0.0          1.0  "
      ]
     },
     "execution_count": 229,
     "metadata": {},
     "output_type": "execute_result"
    }
   ],
   "source": [
    "df.head()"
   ]
  },
  {
   "cell_type": "code",
   "execution_count": 230,
   "metadata": {},
   "outputs": [],
   "source": [
    "df2 = df.reset_index()['close'] # done for closed "
   ]
  },
  {
   "cell_type": "code",
   "execution_count": 231,
   "metadata": {},
   "outputs": [
    {
     "data": {
      "text/plain": [
       "0    131.780\n",
       "1    130.280\n",
       "2    130.535\n",
       "3    129.960\n",
       "4    130.120\n",
       "Name: close, dtype: float64"
      ]
     },
     "execution_count": 231,
     "metadata": {},
     "output_type": "execute_result"
    }
   ],
   "source": [
    "df2.head()"
   ]
  },
  {
   "cell_type": "code",
   "execution_count": 232,
   "metadata": {},
   "outputs": [
    {
     "data": {
      "text/plain": [
       "(1257,)"
      ]
     },
     "execution_count": 232,
     "metadata": {},
     "output_type": "execute_result"
    }
   ],
   "source": [
    "df2.shape"
   ]
  },
  {
   "cell_type": "code",
   "execution_count": 233,
   "metadata": {},
   "outputs": [
    {
     "data": {
      "text/plain": [
       "<matplotlib.axes._subplots.AxesSubplot at 0x15a2544eb48>"
      ]
     },
     "execution_count": 233,
     "metadata": {},
     "output_type": "execute_result"
    },
    {
     "data": {
      "image/png": "[encoded data removed]",
      "text/plain": [
       "<Figure size 432x288 with 1 Axes>"
      ]
     },
     "metadata": {
      "needs_background": "light"
     },
     "output_type": "display_data"
    }
   ],
   "source": [
    "df2.plot(color='r')\n",
    "df2.plot(kind='area',color='g',alpha=0.2)"
   ]
  },
  {
   "cell_type": "code",
   "execution_count": 234,
   "metadata": {},
   "outputs": [],
   "source": [
    "import numpy as np"
   ]
  },
  {
   "cell_type": "markdown",
   "metadata": {},
   "source": [
    "LSTM IS SENSITIVE TO SCALING OF DATA, HERE DATA IS CLOSED (USING MINMAX SCALER)"
   ]
  },
  {
   "cell_type": "code",
   "execution_count": 235,
   "metadata": {},
   "outputs": [],
   "source": [
    "from sklearn.preprocessing import MinMaxScaler\n",
    "scaler = MinMaxScaler(feature_range=(0,1))\n",
    "df2s = scaler.fit_transform(np.array(df2).reshape(-1,1))"
   ]
  },
  {
   "cell_type": "code",
   "execution_count": 236,
   "metadata": {},
   "outputs": [
    {
     "data": {
      "text/plain": [
       "[<matplotlib.lines.Line2D at 0x15a3c6a7388>]"
      ]
     },
     "execution_count": 236,
     "metadata": {},
     "output_type": "execute_result"
    },
    {
     "data": {
      "image/png": "[encoded data removed]",
      "text/plain": [
       "<Figure size 432x288 with 1 Axes>"
      ]
     },
     "metadata": {
      "needs_background": "light"
     },
     "output_type": "display_data"
    }
   ],
   "source": [
    "import matplotlib.pyplot as plt\n",
    "plt.plot(df2s)"
   ]
  },
  {
   "cell_type": "markdown",
   "metadata": {},
   "source": [
    "It is Time Series problem "
   ]
  },
  {
   "cell_type": "code",
   "execution_count": 237,
   "metadata": {},
   "outputs": [],
   "source": [
    "training_size = int(len(df2)*0.65)\n",
    "test_size = int(len(df)-training_size)\n",
    "train_data,test_data=df2s[0:training_size,:],df2s[training_size:len(df2s),:1]"
   ]
  },
  {
   "cell_type": "code",
   "execution_count": 238,
   "metadata": {},
   "outputs": [
    {
     "data": {
      "text/plain": [
       "(817, (817, 1), 440, (440, 1))"
      ]
     },
     "execution_count": 238,
     "metadata": {},
     "output_type": "execute_result"
    }
   ],
   "source": [
    "training_size,train_data.shape,test_size,test_data.shape"
   ]
  },
  {
   "cell_type": "markdown",
   "metadata": {},
   "source": [
    "# Data Preprocessing for LSTM"
   ]
  },
  {
   "cell_type": "markdown",
   "metadata": {},
   "source": [
    "Time stamp =3\n",
    "f1 f2 f3 = o/p |||\n",
    "1  2   3 = 4 ||| 2  3   4 = 5\n",
    "||| x_train  = y_train"
   ]
  },
  {
   "cell_type": "markdown",
   "metadata": {},
   "source": [
    "# Hyper parameter Tuning"
   ]
  },
  {
   "cell_type": "code",
   "execution_count": 239,
   "metadata": {},
   "outputs": [],
   "source": [
    "def create_dataset(data,time_step=1):\n",
    "    datax,datay=[],[]\n",
    "    for i in range(len(data)-time_step-1):\n",
    "        a = data[i:(i+time_step),0] #0 1 2 3\n",
    "        datax.append(a)\n",
    "        datay.append(data[i+time_step,0])\n",
    "    return np.array(datax),np.array(datay)"
   ]
  },
  {
   "cell_type": "code",
   "execution_count": 240,
   "metadata": {},
   "outputs": [],
   "source": [
    "time_step=100 #more time_step is good\n",
    "X_train,y_train=create_dataset(train_data,time_step)\n",
    "X_test,y_test=create_dataset(test_data,time_step)"
   ]
  },
  {
   "cell_type": "code",
   "execution_count": 241,
   "metadata": {},
   "outputs": [
    {
     "data": {
      "text/plain": [
       "((716, 100), (716,))"
      ]
     },
     "execution_count": 241,
     "metadata": {},
     "output_type": "execute_result"
    }
   ],
   "source": [
    "X_train.shape,y_train.shape"
   ]
  },
  {
   "cell_type": "markdown",
   "metadata": {},
   "source": [
    "# FOR LSTM RESHAPE DATA TO 3D"
   ]
  },
  {
   "cell_type": "code",
   "execution_count": 242,
   "metadata": {},
   "outputs": [],
   "source": [
    "X_train = X_train.reshape(X_train.shape[0],X_train.shape[1],1)\n",
    "X_test = X_test.reshape(X_test.shape[0],X_test.shape[1],1)"
   ]
  },
  {
   "cell_type": "markdown",
   "metadata": {},
   "source": [
    "# LSTM MODEL"
   ]
  },
  {
   "cell_type": "code",
   "execution_count": 243,
   "metadata": {},
   "outputs": [],
   "source": [
    "from tensorflow.keras.models import Sequential\n",
    "from tensorflow.keras.layers import Dense,LSTM"
   ]
  },
  {
   "cell_type": "code",
   "execution_count": 244,
   "metadata": {},
   "outputs": [],
   "source": [
    "model = Sequential()\n",
    "model.add(LSTM(50,return_sequences=True,input_shape=(100,1))) # becaues X_train shape[1] = 100,1 \n",
    "model.add(LSTM(50,return_sequences=True)) # stacked\n",
    "model.add(LSTM(50))\n",
    "model.add(Dense(1))\n",
    "model.compile(loss='mean_squared_error',optimizer='adam')"
   ]
  },
  {
   "cell_type": "code",
   "execution_count": 245,
   "metadata": {},
   "outputs": [
    {
     "name": "stdout",
     "output_type": "stream",
     "text": [
      "Model: \"sequential_2\"\n",
      "_________________________________________________________________\n",
      "Layer (type)                 Output Shape              Param #   \n",
      "=================================================================\n",
      "lstm_3 (LSTM)                (None, 100, 50)           10400     \n",
      "_________________________________________________________________\n",
      "lstm_4 (LSTM)                (None, 100, 50)           20200     \n",
      "_________________________________________________________________\n",
      "lstm_5 (LSTM)                (None, 50)                20200     \n",
      "_________________________________________________________________\n",
      "dense_1 (Dense)              (None, 1)                 51        \n",
      "=================================================================\n",
      "Total params: 50,851\n",
      "Trainable params: 50,851\n",
      "Non-trainable params: 0\n",
      "_________________________________________________________________\n"
     ]
    }
   ],
   "source": [
    "model.summary()"
   ]
  },
  {
   "cell_type": "code",
   "execution_count": 246,
   "metadata": {},
   "outputs": [
    {
     "name": "stdout",
     "output_type": "stream",
     "text": [
      "Epoch 1/100\n",
      "12/12 [==============================] - 3s 260ms/step - loss: 0.0182 - val_loss: 0.0668\n",
      "Epoch 2/100\n",
      "12/12 [==============================] - 2s 178ms/step - loss: 0.0039 - val_loss: 0.0049\n",
      "Epoch 3/100\n",
      "12/12 [==============================] - 2s 184ms/step - loss: 9.2954e-04 - val_loss: 0.0058\n",
      "Epoch 4/100\n",
      "12/12 [==============================] - 2s 181ms/step - loss: 7.5123e-04 - val_loss: 0.0040\n",
      "Epoch 5/100\n",
      "12/12 [==============================] - 2s 184ms/step - loss: 6.6507e-04 - val_loss: 0.0039\n",
      "Epoch 6/100\n",
      "12/12 [==============================] - 2s 183ms/step - loss: 6.4006e-04 - val_loss: 0.0039\n",
      "Epoch 7/100\n",
      "12/12 [==============================] - 2s 189ms/step - loss: 6.4854e-04 - val_loss: 0.0043\n",
      "Epoch 8/100\n",
      "12/12 [==============================] - 2s 197ms/step - loss: 6.3587e-04 - val_loss: 0.0041\n",
      "Epoch 9/100\n",
      "12/12 [==============================] - 2s 189ms/step - loss: 6.0999e-04 - val_loss: 0.0043\n",
      "Epoch 10/100\n",
      "12/12 [==============================] - 2s 183ms/step - loss: 6.2862e-04 - val_loss: 0.0039\n",
      "Epoch 11/100\n",
      "12/12 [==============================] - 2s 184ms/step - loss: 6.0338e-04 - val_loss: 0.0039\n",
      "Epoch 12/100\n",
      "12/12 [==============================] - 2s 183ms/step - loss: 5.9822e-04 - val_loss: 0.0033\n",
      "Epoch 13/100\n",
      "12/12 [==============================] - 2s 193ms/step - loss: 5.5525e-04 - val_loss: 0.0039\n",
      "Epoch 14/100\n",
      "12/12 [==============================] - 2s 193ms/step - loss: 5.7752e-04 - val_loss: 0.0031\n",
      "Epoch 15/100\n",
      "12/12 [==============================] - 3s 235ms/step - loss: 5.5536e-04 - val_loss: 0.0033\n",
      "Epoch 16/100\n",
      "12/12 [==============================] - 3s 224ms/step - loss: 5.4333e-04 - val_loss: 0.0029\n",
      "Epoch 17/100\n",
      "12/12 [==============================] - 3s 222ms/step - loss: 5.3611e-04 - val_loss: 0.0031\n",
      "Epoch 18/100\n",
      "12/12 [==============================] - 3s 247ms/step - loss: 4.9774e-04 - val_loss: 0.0028\n",
      "Epoch 19/100\n",
      "12/12 [==============================] - 3s 231ms/step - loss: 5.0652e-04 - val_loss: 0.0027\n",
      "Epoch 20/100\n",
      "12/12 [==============================] - 2s 190ms/step - loss: 5.0879e-04 - val_loss: 0.0026\n",
      "Epoch 21/100\n",
      "12/12 [==============================] - 2s 192ms/step - loss: 4.9650e-04 - val_loss: 0.0025\n",
      "Epoch 22/100\n",
      "12/12 [==============================] - 3s 227ms/step - loss: 4.5622e-04 - val_loss: 0.0024\n",
      "Epoch 23/100\n",
      "12/12 [==============================] - 3s 265ms/step - loss: 4.6012e-04 - val_loss: 0.0023\n",
      "Epoch 24/100\n",
      "12/12 [==============================] - 2s 191ms/step - loss: 4.3269e-04 - val_loss: 0.0022\n",
      "Epoch 25/100\n",
      "12/12 [==============================] - 2s 190ms/step - loss: 4.2778e-04 - val_loss: 0.0023\n",
      "Epoch 26/100\n",
      "12/12 [==============================] - 2s 187ms/step - loss: 4.2785e-04 - val_loss: 0.0020\n",
      "Epoch 27/100\n",
      "12/12 [==============================] - 2s 187ms/step - loss: 4.1853e-04 - val_loss: 0.0019\n",
      "Epoch 28/100\n",
      "12/12 [==============================] - 2s 185ms/step - loss: 4.1795e-04 - val_loss: 0.0025\n",
      "Epoch 29/100\n",
      "12/12 [==============================] - 2s 179ms/step - loss: 4.6027e-04 - val_loss: 0.0027\n",
      "Epoch 30/100\n",
      "12/12 [==============================] - 2s 193ms/step - loss: 4.2593e-04 - val_loss: 0.0017\n",
      "Epoch 31/100\n",
      "12/12 [==============================] - 2s 185ms/step - loss: 4.0189e-04 - val_loss: 0.0017\n",
      "Epoch 32/100\n",
      "12/12 [==============================] - 2s 190ms/step - loss: 3.7584e-04 - val_loss: 0.0016\n",
      "Epoch 33/100\n",
      "12/12 [==============================] - 2s 187ms/step - loss: 3.6595e-04 - val_loss: 0.0019\n",
      "Epoch 34/100\n",
      "12/12 [==============================] - 2s 196ms/step - loss: 3.6078e-04 - val_loss: 0.0016\n",
      "Epoch 35/100\n",
      "12/12 [==============================] - 2s 190ms/step - loss: 3.6178e-04 - val_loss: 0.0015\n",
      "Epoch 36/100\n",
      "12/12 [==============================] - 2s 193ms/step - loss: 3.7067e-04 - val_loss: 0.0023\n",
      "Epoch 37/100\n",
      "12/12 [==============================] - 3s 226ms/step - loss: 3.7632e-04 - val_loss: 0.0015\n",
      "Epoch 38/100\n",
      "12/12 [==============================] - 4s 328ms/step - loss: 3.7208e-04 - val_loss: 0.0014\n",
      "Epoch 39/100\n",
      "12/12 [==============================] - 3s 280ms/step - loss: 3.8106e-04 - val_loss: 0.0023\n",
      "Epoch 40/100\n",
      "12/12 [==============================] - 2s 200ms/step - loss: 3.6463e-04 - val_loss: 0.0016\n",
      "Epoch 41/100\n",
      "12/12 [==============================] - 3s 242ms/step - loss: 3.4553e-04 - val_loss: 0.0026\n",
      "Epoch 42/100\n",
      "12/12 [==============================] - 3s 269ms/step - loss: 3.7643e-04 - val_loss: 0.0022\n",
      "Epoch 43/100\n",
      "12/12 [==============================] - 3s 214ms/step - loss: 4.0434e-04 - val_loss: 0.0046\n",
      "Epoch 44/100\n",
      "12/12 [==============================] - 2s 202ms/step - loss: 4.7252e-04 - val_loss: 0.0015\n",
      "Epoch 45/100\n",
      "12/12 [==============================] - 2s 185ms/step - loss: 3.5465e-04 - val_loss: 0.0015\n",
      "Epoch 46/100\n",
      "12/12 [==============================] - 2s 190ms/step - loss: 3.7469e-04 - val_loss: 0.0024\n",
      "Epoch 47/100\n",
      "12/12 [==============================] - 2s 193ms/step - loss: 3.0347e-04 - val_loss: 0.0015\n",
      "Epoch 48/100\n",
      "12/12 [==============================] - 2s 189ms/step - loss: 2.9040e-04 - val_loss: 0.0017\n",
      "Epoch 49/100\n",
      "12/12 [==============================] - 2s 199ms/step - loss: 2.9237e-04 - val_loss: 0.0018\n",
      "Epoch 50/100\n",
      "12/12 [==============================] - 2s 199ms/step - loss: 3.1133e-04 - val_loss: 0.0014\n",
      "Epoch 51/100\n",
      "12/12 [==============================] - 2s 200ms/step - loss: 2.8263e-04 - val_loss: 0.0013\n",
      "Epoch 52/100\n",
      "12/12 [==============================] - 2s 194ms/step - loss: 3.2015e-04 - val_loss: 0.0015\n",
      "Epoch 53/100\n",
      "12/12 [==============================] - 2s 181ms/step - loss: 2.7245e-04 - val_loss: 0.0013\n",
      "Epoch 54/100\n",
      "12/12 [==============================] - 2s 193ms/step - loss: 2.6849e-04 - val_loss: 0.0022\n",
      "Epoch 55/100\n",
      "12/12 [==============================] - 2s 194ms/step - loss: 2.9239e-04 - val_loss: 0.0013\n",
      "Epoch 56/100\n",
      "12/12 [==============================] - 2s 192ms/step - loss: 2.8427e-04 - val_loss: 0.0018\n",
      "Epoch 57/100\n",
      "12/12 [==============================] - 2s 207ms/step - loss: 3.0552e-04 - val_loss: 0.0013\n",
      "Epoch 58/100\n",
      "12/12 [==============================] - 2s 195ms/step - loss: 2.8728e-04 - val_loss: 0.0017\n",
      "Epoch 59/100\n",
      "12/12 [==============================] - 2s 192ms/step - loss: 2.6605e-04 - val_loss: 0.0013\n",
      "Epoch 60/100\n",
      "12/12 [==============================] - 2s 200ms/step - loss: 2.4773e-04 - val_loss: 0.0021\n",
      "Epoch 61/100\n",
      "12/12 [==============================] - 2s 194ms/step - loss: 2.6178e-04 - val_loss: 0.0015\n",
      "Epoch 62/100\n",
      "12/12 [==============================] - 2s 192ms/step - loss: 2.4212e-04 - val_loss: 0.0014\n",
      "Epoch 63/100\n",
      "12/12 [==============================] - 2s 203ms/step - loss: 2.4727e-04 - val_loss: 0.0012\n",
      "Epoch 64/100\n",
      "12/12 [==============================] - 2s 204ms/step - loss: 2.7930e-04 - val_loss: 0.0021\n",
      "Epoch 65/100\n",
      "12/12 [==============================] - 2s 192ms/step - loss: 3.0931e-04 - val_loss: 0.0014\n",
      "Epoch 66/100\n",
      "12/12 [==============================] - 2s 182ms/step - loss: 2.5271e-04 - val_loss: 0.0014\n",
      "Epoch 67/100\n",
      "12/12 [==============================] - 2s 188ms/step - loss: 2.3640e-04 - val_loss: 0.0012\n",
      "Epoch 68/100\n",
      "12/12 [==============================] - 2s 184ms/step - loss: 2.3920e-04 - val_loss: 0.0020\n",
      "Epoch 69/100\n",
      "12/12 [==============================] - 2s 180ms/step - loss: 2.5483e-04 - val_loss: 0.0011\n",
      "Epoch 70/100\n",
      "12/12 [==============================] - 2s 186ms/step - loss: 2.3965e-04 - val_loss: 0.0013\n",
      "Epoch 71/100\n",
      "12/12 [==============================] - 2s 185ms/step - loss: 2.1883e-04 - val_loss: 0.0013\n",
      "Epoch 72/100\n",
      "12/12 [==============================] - 2s 196ms/step - loss: 2.0363e-04 - val_loss: 0.0014\n",
      "Epoch 73/100\n",
      "12/12 [==============================] - 2s 189ms/step - loss: 2.2085e-04 - val_loss: 0.0015\n",
      "Epoch 74/100\n",
      "12/12 [==============================] - 2s 187ms/step - loss: 2.8980e-04 - val_loss: 0.0012\n",
      "Epoch 75/100\n",
      "12/12 [==============================] - 2s 190ms/step - loss: 2.1853e-04 - val_loss: 0.0011\n",
      "Epoch 76/100\n",
      "12/12 [==============================] - 2s 190ms/step - loss: 2.0841e-04 - val_loss: 0.0010\n",
      "Epoch 77/100\n",
      "12/12 [==============================] - 2s 194ms/step - loss: 2.0035e-04 - val_loss: 0.0016\n",
      "Epoch 78/100\n"
     ]
    },
    {
     "name": "stdout",
     "output_type": "stream",
     "text": [
      "12/12 [==============================] - 2s 202ms/step - loss: 2.0980e-04 - val_loss: 0.0012\n",
      "Epoch 79/100\n",
      "12/12 [==============================] - 3s 224ms/step - loss: 2.3084e-04 - val_loss: 0.0019\n",
      "Epoch 80/100\n",
      "12/12 [==============================] - 3s 212ms/step - loss: 2.1521e-04 - val_loss: 9.8492e-04\n",
      "Epoch 81/100\n",
      "12/12 [==============================] - 2s 205ms/step - loss: 1.9089e-04 - val_loss: 0.0012\n",
      "Epoch 82/100\n",
      "12/12 [==============================] - 2s 191ms/step - loss: 1.8774e-04 - val_loss: 0.0010\n",
      "Epoch 83/100\n",
      "12/12 [==============================] - 2s 199ms/step - loss: 1.9377e-04 - val_loss: 0.0012\n",
      "Epoch 84/100\n",
      "12/12 [==============================] - 2s 195ms/step - loss: 1.7233e-04 - val_loss: 9.4610e-04\n",
      "Epoch 85/100\n",
      "12/12 [==============================] - 2s 191ms/step - loss: 1.7370e-04 - val_loss: 0.0013\n",
      "Epoch 86/100\n",
      "12/12 [==============================] - 2s 194ms/step - loss: 1.8255e-04 - val_loss: 0.0011\n",
      "Epoch 87/100\n",
      "12/12 [==============================] - 2s 204ms/step - loss: 1.6506e-04 - val_loss: 0.0010\n",
      "Epoch 88/100\n",
      "12/12 [==============================] - 2s 196ms/step - loss: 1.6095e-04 - val_loss: 9.0608e-04\n",
      "Epoch 89/100\n",
      "12/12 [==============================] - 2s 194ms/step - loss: 1.6338e-04 - val_loss: 8.9981e-04\n",
      "Epoch 90/100\n",
      "12/12 [==============================] - 2s 200ms/step - loss: 1.6164e-04 - val_loss: 8.7538e-04\n",
      "Epoch 91/100\n",
      "12/12 [==============================] - 2s 193ms/step - loss: 1.5887e-04 - val_loss: 9.7587e-04\n",
      "Epoch 92/100\n",
      "12/12 [==============================] - 2s 194ms/step - loss: 1.6548e-04 - val_loss: 0.0011\n",
      "Epoch 93/100\n",
      "12/12 [==============================] - 2s 194ms/step - loss: 1.8007e-04 - val_loss: 9.4584e-04\n",
      "Epoch 94/100\n",
      "12/12 [==============================] - 2s 187ms/step - loss: 1.5087e-04 - val_loss: 9.7971e-04\n",
      "Epoch 95/100\n",
      "12/12 [==============================] - 2s 186ms/step - loss: 1.7392e-04 - val_loss: 8.9162e-04\n",
      "Epoch 96/100\n",
      "12/12 [==============================] - 2s 193ms/step - loss: 1.7133e-04 - val_loss: 0.0018\n",
      "Epoch 97/100\n",
      "12/12 [==============================] - 2s 189ms/step - loss: 2.1542e-04 - val_loss: 0.0011\n",
      "Epoch 98/100\n",
      "12/12 [==============================] - 2s 189ms/step - loss: 1.5329e-04 - val_loss: 9.0173e-04\n",
      "Epoch 99/100\n",
      "12/12 [==============================] - 2s 200ms/step - loss: 1.4049e-04 - val_loss: 8.6321e-04\n",
      "Epoch 100/100\n",
      "12/12 [==============================] - 3s 225ms/step - loss: 1.3946e-04 - val_loss: 8.0785e-04\n"
     ]
    },
    {
     "data": {
      "text/plain": [
       "<tensorflow.python.keras.callbacks.History at 0x15a3e73c808>"
      ]
     },
     "execution_count": 246,
     "metadata": {},
     "output_type": "execute_result"
    }
   ],
   "source": [
    "model.fit(X_train,y_train,validation_data=(X_test,y_test),epochs=100,batch_size=64,verbose=1)"
   ]
  },
  {
   "cell_type": "code",
   "execution_count": 247,
   "metadata": {},
   "outputs": [],
   "source": [
    "train_predict= model.predict(X_train)\n",
    "test_predict = model.predict(X_test)"
   ]
  },
  {
   "cell_type": "code",
   "execution_count": 248,
   "metadata": {},
   "outputs": [],
   "source": [
    "train_predict = scaler.inverse_transform(train_predict)\n",
    "test_predict = scaler.inverse_transform(test_predict)"
   ]
  },
  {
   "cell_type": "code",
   "execution_count": 255,
   "metadata": {},
   "outputs": [
    {
     "data": {
      "text/plain": [
       "141.90094477274874"
      ]
     },
     "execution_count": 255,
     "metadata": {},
     "output_type": "execute_result"
    }
   ],
   "source": [
    "#CalCULATE RMSE\n",
    "from sklearn.metrics import mean_squared_error\n",
    "np.sqrt(mean_squared_error(y_train,train_predict))\n",
    "#len(train_predict),len(test_predict)"
   ]
  },
  {
   "cell_type": "code",
   "execution_count": 283,
   "metadata": {},
   "outputs": [
    {
     "name": "stdout",
     "output_type": "stream",
     "text": [
      "1257\n"
     ]
    },
    {
     "data": {
      "text/plain": [
       "[<matplotlib.lines.Line2D at 0x15a4aa6fac8>]"
      ]
     },
     "execution_count": 283,
     "metadata": {},
     "output_type": "execute_result"
    },
    {
     "data": {
      "image/png": "[encoded data removed]",
      "text/plain": [
       "<Figure size 432x288 with 1 Axes>"
      ]
     },
     "metadata": {
      "needs_background": "light"
     },
     "output_type": "display_data"
    }
   ],
   "source": [
    "look_back=100 #becaues time_step=100\n",
    "trainpredictplot = np.empty_like(df2s)\n",
    "trainpredictplot[:,:] = np.nan\n",
    "\n",
    "trainpredictplot[look_back:len(train_predict)+look_back,:]=train_predict\n",
    "\n",
    "testpredictplot = np.empty_like(df2s)\n",
    "testpredictplot[:,:]=np.nan\n",
    "print(len(testpredictplot))\n",
    "testpredictplot[len(train_predict)+(look_back*2)+1:len(df2s)-1,:]=test_predict\n",
    "plt.plot(scaler.inverse_transform(df2s))\n",
    "plt.plot(trainpredictplot)\n",
    "plt.plot(testpredictplot)"
   ]
  },
  {
   "cell_type": "markdown",
   "metadata": {},
   "source": [
    "# Forecasting "
   ]
  },
  {
   "cell_type": "code",
   "execution_count": 284,
   "metadata": {},
   "outputs": [
    {
     "data": {
      "text/plain": [
       "(1, 100)"
      ]
     },
     "execution_count": 284,
     "metadata": {},
     "output_type": "execute_result"
    }
   ],
   "source": [
    "x_input = test_data[len(test_data)-100:].reshape(1,-1)\n",
    "x_input.shape"
   ]
  },
  {
   "cell_type": "code",
   "execution_count": 285,
   "metadata": {
    "scrolled": true
   },
   "outputs": [
    {
     "data": {
      "text/plain": [
       "[0.8583551465000423,\n",
       " 0.8866418981676942,\n",
       " 0.8743139407244789,\n",
       " 0.8843198513890065,\n",
       " 0.8783669678290975,\n",
       " 0.8986321033521913,\n",
       " 0.925821160179009,\n",
       " 0.9287764924427933,\n",
       " 0.9567677108840666,\n",
       " 0.9386979650426415,\n",
       " 0.933040614709111,\n",
       " 0.9495060373216249,\n",
       " 0.9642404796082076,\n",
       " 0.9551211686228154,\n",
       " 0.9598919192772104,\n",
       " 0.9663514312251966,\n",
       " 0.9624672802499368,\n",
       " 0.9229502659799038,\n",
       " 0.9598497002448705,\n",
       " 0.9879253567508233,\n",
       " 0.985941062230854,\n",
       " 0.9253145317909315,\n",
       " 0.9217259140420504,\n",
       " 0.964747107996285,\n",
       " 0.9757240564046274,\n",
       " 0.9915984125643842,\n",
       " 0.9697289538123788,\n",
       " 0.9761462467280253,\n",
       " 0.9679557544541082,\n",
       " 1.0000000000000002,\n",
       " 0.9901629654648318,\n",
       " 0.9905007177235499,\n",
       " 0.9653803934813816,\n",
       " 0.9848855864223593,\n",
       " 0.9708688676855528,\n",
       " 0.9402600692392133,\n",
       " 0.8774803681499621,\n",
       " 0.8348391454867856,\n",
       " 0.8541332432660644,\n",
       " 0.7733682344000676,\n",
       " 0.7726927298826314,\n",
       " 0.8801401671873683,\n",
       " 0.8400743054969182,\n",
       " 0.8967322468969012,\n",
       " 0.8552731571392387,\n",
       " 0.8388499535590646,\n",
       " 0.7423372456303303,\n",
       " 0.8232711306256861,\n",
       " 0.7814320695769654,\n",
       " 0.6665963016127672,\n",
       " 0.7921557037912694,\n",
       " 0.6411804441442204,\n",
       " 0.6861437135860848,\n",
       " 0.6600101325677616,\n",
       " 0.6520307354555435,\n",
       " 0.5864223591995272,\n",
       " 0.5658616904500551,\n",
       " 0.660896732246897,\n",
       " 0.6551549438486872,\n",
       " 0.7097019336316812,\n",
       " 0.664527569028118,\n",
       " 0.6943764248923416,\n",
       " 0.692181035210673,\n",
       " 0.6356919699400492,\n",
       " 0.6526640209406402,\n",
       " 0.637802921557038,\n",
       " 0.7267162036646122,\n",
       " 0.7138816178333194,\n",
       " 0.7419150553069325,\n",
       " 0.7500211095161702,\n",
       " 0.7722283205268936,\n",
       " 0.8304905851557884,\n",
       " 0.8194291986827664,\n",
       " 0.8289706999915563,\n",
       " 0.8125474964113824,\n",
       " 0.7877649244279323,\n",
       " 0.7516254327450818,\n",
       " 0.7842607447437306,\n",
       " 0.7797433082833742,\n",
       " 0.8132652199611587,\n",
       " 0.8141096006079542,\n",
       " 0.7947310647639958,\n",
       " 0.8333614793548934,\n",
       " 0.8589884319851391,\n",
       " 0.8390188296884238,\n",
       " 0.8562864139153934,\n",
       " 0.8748627881448958,\n",
       " 0.887824031073208,\n",
       " 0.9009541501308793,\n",
       " 0.9279321117959978,\n",
       " 0.9485349995778098,\n",
       " 0.9333361479354896,\n",
       " 0.9174617917757326,\n",
       " 0.925441188887951,\n",
       " 0.9177151059697712,\n",
       " 0.9483239044161109,\n",
       " 0.9406400405302711,\n",
       " 0.9663514312251966,\n",
       " 0.9563033015283293,\n",
       " 0.964915984125644]"
      ]
     },
     "execution_count": 285,
     "metadata": {},
     "output_type": "execute_result"
    }
   ],
   "source": [
    "temp_input = x_input[0].tolist()\n",
    "temp_input"
   ]
  },
  {
   "cell_type": "markdown",
   "metadata": {},
   "source": [
    "# Logic"
   ]
  },
  {
   "cell_type": "code",
   "execution_count": 286,
   "metadata": {},
   "outputs": [],
   "source": [
    "n_steps=100\n",
    "i=0\n",
    "days =30\n",
    "lst_output=[]\n",
    "while(i<days):\n",
    "    if(len(temp_input)>100):\n",
    "        x_input=np.array(temp_input[1:]).reshape(1,-1).reshape((1,n_steps,1)) # reshape made as above for LSTM 3D\n",
    "        yhat = model.predict(x_input,verbose=0)\n",
    "        temp_input.extend(yhat[0].tolist())\n",
    "        temp_input=temp_input[1:]\n",
    "        lst_output.extend(yhat.tolist())\n",
    "        i+=1\n",
    "    else:\n",
    "        x_input = x_input.reshape((1,n_steps,1))\n",
    "        yhat=model.predict(x_input,verbose=0)\n",
    "        temp_input.extend(yhat[0].tolist())\n",
    "        lst_output.extend(yhat.tolist())\n",
    "        i+=1\n",
    "        "
   ]
  },
  {
   "cell_type": "code",
   "execution_count": 287,
   "metadata": {},
   "outputs": [
    {
     "data": {
      "text/plain": [
       "30"
      ]
     },
     "execution_count": 287,
     "metadata": {},
     "output_type": "execute_result"
    }
   ],
   "source": [
    "len(lst_output)\n",
    "#lst_output"
   ]
  },
  {
   "cell_type": "code",
   "execution_count": 288,
   "metadata": {},
   "outputs": [],
   "source": [
    "day_new = np.arange(1,101)\n",
    "day_pred = np.arange(101,131)\n"
   ]
  },
  {
   "cell_type": "code",
   "execution_count": 290,
   "metadata": {},
   "outputs": [
    {
     "data": {
      "text/plain": [
       "[<matplotlib.lines.Line2D at 0x15a4ab49908>]"
      ]
     },
     "execution_count": 290,
     "metadata": {},
     "output_type": "execute_result"
    },
    {
     "data": {
      "image/png": "[encoded data removed]",
      "text/plain": [
       "<Figure size 432x288 with 1 Axes>"
      ]
     },
     "metadata": {
      "needs_background": "light"
     },
     "output_type": "display_data"
    }
   ],
   "source": [
    "plt.plot(day_new,df2[len(df2)-100:])\n",
    "plt.plot(day_pred,scaler.inverse_transform(lst_output))"
   ]
  },
  {
   "cell_type": "code",
   "execution_count": 291,
   "metadata": {},
   "outputs": [
    {
     "data": {
      "text/plain": [
       "(1287, 1257)"
      ]
     },
     "execution_count": 291,
     "metadata": {},
     "output_type": "execute_result"
    }
   ],
   "source": [
    "df3=[]\n",
    "df3.extend(df2.tolist())\n",
    "df3.extend(scaler.inverse_transform(lst_output).reshape(1,-1)[0].tolist())\n",
    "len(df3),len(df2)"
   ]
  },
  {
   "cell_type": "code",
   "execution_count": 292,
   "metadata": {},
   "outputs": [
    {
     "data": {
      "text/plain": [
       "[<matplotlib.lines.Line2D at 0x15a4aaebe48>]"
      ]
     },
     "execution_count": 292,
     "metadata": {},
     "output_type": "execute_result"
    },
    {
     "data": {
      "image/png": "[encoded data removed]",
      "text/plain": [
       "<Figure size 1008x576 with 1 Axes>"
      ]
     },
     "metadata": {
      "needs_background": "light"
     },
     "output_type": "display_data"
    }
   ],
   "source": [
    "\n",
    "fig = plt.figure(figsize=(14,8))\n",
    "day_pred1 = np.arange(len(df2),len(df2)+30)\n",
    "plt.plot(df3)\n",
    "plt.plot(day_pred1,scaler.inverse_transform(lst_output).reshape(1,-1)[0].tolist(),color='r')"
   ]
  },
  {
   "cell_type": "code",
   "execution_count": 298,
   "metadata": {},
   "outputs": [
    {
     "name": "stdout",
     "output_type": "stream",
     "text": [
      "1257\n"
     ]
    },
    {
     "data": {
      "text/plain": [
       "[<matplotlib.lines.Line2D at 0x15a4b969d08>]"
      ]
     },
     "execution_count": 298,
     "metadata": {},
     "output_type": "execute_result"
    },
    {
     "data": {
      "image/png": "[encoded data removed]",
      "text/plain": [
       "<Figure size 1008x576 with 1 Axes>"
      ]
     },
     "metadata": {
      "needs_background": "light"
     },
     "output_type": "display_data"
    }
   ],
   "source": [
    "\n",
    "fig = plt.figure(figsize=(14,8))\n",
    "look_back=100 #becaues time_step=100\n",
    "trainpredictplot = np.empty_like(df2s)\n",
    "trainpredictplot[:,:] = np.nan\n",
    "\n",
    "trainpredictplot[look_back:len(train_predict)+look_back,:]=train_predict\n",
    "\n",
    "testpredictplot = np.empty_like(df2s)\n",
    "testpredictplot[:,:]=np.nan\n",
    "print(len(testpredictplot))\n",
    "testpredictplot[len(train_predict)+(look_back*2)+1:len(df2s)-1,:]=test_predict\n",
    "plt.plot(scaler.inverse_transform(df2s))\n",
    "plt.plot(trainpredictplot,color='g')\n",
    "plt.plot(testpredictplot,color='b')\n",
    "day_pred1 = np.arange(len(df2),len(df2)+30)\n",
    "plt.plot(df3)\n",
    "plt.plot(day_pred1,scaler.inverse_transform(lst_output).reshape(1,-1)[0].tolist(),color=\"r\")"
   ]
  }
 ],
 "metadata": {
  "kernelspec": {
   "display_name": "Python 3",
   "language": "python",
   "name": "python3"
  },
  "language_info": {
   "codemirror_mode": {
    "name": "ipython",
    "version": 3
   },
   "file_extension": ".py",
   "mimetype": "text/x-python",
   "name": "python",
   "nbconvert_exporter": "python",
   "pygments_lexer": "ipython3",
   "version": "3.7.6"
  }
 },
 "nbformat": 4,
 "nbformat_minor": 4
}
